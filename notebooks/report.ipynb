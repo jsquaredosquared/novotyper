{
 "cells": [
  {
   "cell_type": "code",
   "execution_count": null,
   "id": "qnkX",
   "metadata": {},
   "outputs": [],
   "source": [
    "import marimo as mo"
   ]
  },
  {
   "cell_type": "code",
   "execution_count": null,
   "id": "TqIu",
   "metadata": {},
   "outputs": [],
   "source": [
    "import pandas as pd\n",
    "import pyranges as pr\n",
    "import polars as pl\n",
    "import bioframe as bf\n",
    "import numpy as np\n",
    "import altair as alt"
   ]
  },
  {
   "cell_type": "markdown",
   "id": "DnEU",
   "metadata": {},
   "source": [
    "## Load data"
   ]
  },
  {
   "cell_type": "markdown",
   "id": "SdmI",
   "metadata": {},
   "source": [
    "### Calculate MAPQ over ALT test locs"
   ]
  },
  {
   "cell_type": "markdown",
   "id": "BYtC",
   "metadata": {},
   "source": [
    "- Zooming in on distirbution of $R_{\\text{MAPQ}}$ to select reasonable cutoffs."
   ]
  },
  {
   "cell_type": "markdown",
   "id": "Hbol",
   "metadata": {},
   "source": [
    "# Report"
   ]
  },
  {
   "cell_type": "markdown",
   "id": "rEll",
   "metadata": {},
   "source": [
    "### Calculate MAPQ over REF test locs"
   ]
  },
  {
   "cell_type": "markdown",
   "id": "kqZH",
   "metadata": {},
   "source": [
    "## Prepare MAPQ"
   ]
  },
  {
   "cell_type": "markdown",
   "id": "lEQa",
   "metadata": {},
   "source": [
    "### MAPQ ratio distribution"
   ]
  },
  {
   "cell_type": "markdown",
   "id": "bkHC",
   "metadata": {},
   "source": [
    "## Observations (in HG002)"
   ]
  },
  {
   "cell_type": "markdown",
   "id": "ZHCJ",
   "metadata": {},
   "source": [
    "## Comparison to other genotypers\n",
    "\n",
    "- The novoSV method has strong similarities to graph-based SV genotypers.\n",
    "    - e.g., NPSV, SV2, Paragraph, vg, SVTyper, SVJedi-graph, GraphTyper, BayesTyper.\n",
    "    - These use nodes of a graph instead of alt contigs.\n",
    "    - They are usually much faster.\n",
    "    - Some also struggle with nearby and overlapping SVs.\n",
    "- The novoSV method can take inspiration from some of their ideas:\n",
    "    - Taking into consideration the uniqueness of read mapping and alignment counts for genotyping.\n",
    "- What would be the advantages of novoSV?\n",
    "    - Can it be used to improve the precision of other SV callers by a significant amount?\n",
    "\n",
    "## Limitations\n",
    "\n",
    "- This method is limited to trying to detect and genotype known SVs.\n",
    "    - It cannot detect _de novo_ SVs.\n",
    "    - A library of known SVs of interest (e.g., those associated with a phenotype or disease, or those previously called by another SV caller) will be useful for this method.\n",
    "- NovoAlign takes too long (especially slowing down development)."
   ]
  },
  {
   "cell_type": "markdown",
   "id": "vblA",
   "metadata": {},
   "source": [
    "## Assumptions\n",
    "\n",
    "- Let $R_{\\text{MAPQ}} = \\frac{\\text{MAPQ}_{\\text{alt}}}{\\text{MAPQ}_{\\text{ref}}}$.\n",
    "- If the sample is **homozygous alternate**, we expect $\\text{MAPQ}_\\text{alt} \\gg \\text{MAPQ}_{\\text{ref}}$, and therefore the MAPQ ratio should be very large ($R_{\\text{MAPQ}} \\gg 1$).\n",
    "- If the sample is **homozygous reference**, we expect $\\text{MAPQ}_\\text{alt} \\ll \\text{MAPQ}_{\\text{ref}}$, and therefore the MAPQ ratio should be very small ($R_{\\text{MAPQ}} \\ll 1$).\n",
    "- If the sample is **heterozygous**, we expect $\\text{MAPQ}_\\text{alt} \\approx \\text{MAPQ}_{\\text{ref}}$ and therefore the MAPQ ratio should be close to 1 ($R_{\\text{MAPQ}} \\approx 1$)."
   ]
  },
  {
   "cell_type": "markdown",
   "id": "yOPj",
   "metadata": {},
   "source": [
    "## Join all results and calculate $R_{\\text{MAPQ}}$"
   ]
  },
  {
   "cell_type": "markdown",
   "id": "iLit",
   "metadata": {},
   "source": [
    "## Things to consider\n",
    "\n",
    "### Overlaps $R_{\\text{MAPQ}}$ distributions\n",
    "\n",
    "- Ideally the distributions for 0/0, 0/1, and 1/1 should be separable to distinguish genotypes.\n",
    "- Overlaps mean **some incorrectly called genotypes may be inevitable**.\n",
    "    - Also, MAPQ involves probability.\n",
    "- Is there a systematic cause that can be addressed?\n",
    "    - MAPQ ratio close to 1 (implying 0/1) but actually 1/1.\n",
    "    - MAPQ ratio very low (implying 0/0) but actually 0/1 or 1/1.\n",
    "    - MAPQ ratio very high (implying 1/1) but actually 0/0 or 0/1.\n",
    "- Most of them tend to be in what look like repetitive or low-complexity regions.\n",
    "- [ ] TODO Is there a reason for the \"spikes\" in the MAPQ distributions near 0?\n",
    "\n",
    "### Generalizability of cutoffs\n",
    "\n",
    "- Can the cutoffs be applied to other samples?\n",
    "    - The distributions could be affected by things such as sequencing parameters (coverage, etc.).\n",
    "- To investigate cutoffs, the HGSVC2 benchmarks can be used to see if the distributions are similar, or to combine all samples and see the overall distribution.\n",
    "\n",
    "### Precision\n",
    "\n",
    "- To assess precision, we need to include true negative SVs (homozygous reference).\n",
    "    - Use the HGSVC2 benchmark VCF, which contains 0/0 variants.\n",
    "    - Use simulated reads, so you are completely certain about the alleles.\n",
    "    - Use the calls from an SV caller and see whether precision can be improved without negatively affecting recall.\n",
    "\n",
    "### Other considerations\n",
    "\n",
    "- Split multiallelic VCF files prior to alt contig generation (so that the only possible genotypes are 0/0, 0/1, 1/1, or ./.).\n",
    "- Should there be a minimum MAPQ?\n",
    "- Should repeat and low-complexity regions be masked?\n",
    "- How will it perform on other SV types?\n",
    "    - Duplications and inversions shouldn't be too difficult to implement.\n",
    "    - Translocations?"
   ]
  },
  {
   "cell_type": "markdown",
   "id": "ZBYS",
   "metadata": {},
   "source": [
    "### Extract SV regions"
   ]
  },
  {
   "cell_type": "markdown",
   "id": "nHfw",
   "metadata": {},
   "source": [
    "### Join regions"
   ]
  },
  {
   "cell_type": "markdown",
   "id": "MJUe",
   "metadata": {},
   "source": [
    "## Background\n",
    "\n",
    "- Investigating the feasibility of an **alignment-based SV genotyper**.\n",
    "- The functionality is based on Novocraft's HLA algorithm.\n",
    "- A list of known structural variants is used to construct alternate contigs.\n",
    "- A new reference consisting of the **reference genome + SV alt contigs** is used for alignment.\n",
    "- If an SV from the list is present, more reads from this region are expected to align to the corresponding SV alt contig with a better mapping quality compared to the corresponding reference location.\n",
    "- Thus, **MAPQ** along with other information may be used to select the combination of alleles which best account for the observed reads."
   ]
  },
  {
   "cell_type": "markdown",
   "id": "NCOB",
   "metadata": {},
   "source": [
    "### Read in VCF to filter for only PASS variants"
   ]
  },
  {
   "cell_type": "markdown",
   "id": "Xref",
   "metadata": {},
   "source": [
    "- Transformations (e.g., $\\sqrt{R_{\\text{MAPQ}}}$ or $\\sqrt[3]{R_{\\text{MAPQ}}}$) can make the distribution easier to visualize at a glance.\n",
    "- How will the distribution of true negatives (homozygous reference) affect genotyping?\n",
    "    - If it does not overlap significantly with the peak, 0/0 should be resolvable and performance characteristics may not be drastically affected."
   ]
  },
  {
   "cell_type": "markdown",
   "id": "AjVT",
   "metadata": {},
   "source": [
    "### Get subregions over which MAPQ will be tested"
   ]
  },
  {
   "cell_type": "markdown",
   "id": "dNNg",
   "metadata": {},
   "source": [
    "### Separate ref and alt test locs"
   ]
  },
  {
   "cell_type": "markdown",
   "id": "Kclp",
   "metadata": {},
   "source": [
    "- The $R_{\\text{MAPQ}}$ distribution has a mode at around 1, as expected.\n",
    "- However, there is some overlap where SVs have an unexpected $R_{\\text{MAPQ}}$ for the reported genotype.\n",
    "- Using the following cutoff values yields a recall of 78% (genotype called correctly):\n",
    "\n",
    "$$\n",
    "\\text{NaN} = ./. \\\\\n",
    "[0,0.2) = 0/0 \\\\\n",
    "[0.2,2.8) = 0/1 \\\\\n",
    "[2.8,\\infty) = 1/1\n",
    "$$"
   ]
  },
  {
   "cell_type": "markdown",
   "id": "ecfG",
   "metadata": {},
   "source": [
    "### Extract reference regions"
   ]
  },
  {
   "cell_type": "markdown",
   "id": "LJZf",
   "metadata": {},
   "source": [
    "## Plot distributions of MAPQ ratio"
   ]
  },
  {
   "cell_type": "markdown",
   "id": "ROlb",
   "metadata": {},
   "source": [
    "# Setup"
   ]
  },
  {
   "cell_type": "markdown",
   "id": "YECM",
   "metadata": {},
   "source": [
    "## Make predictions based on $R_{\\text{MAPQ}}$\n",
    "\n",
    "$$\n",
    "\\text{NaN} = ./. \\\\\n",
    "[0,0.2) = 0/0 \\\\\n",
    "[0.2,2.8) = 0/1 \\\\\n",
    "[2.8,\\infty) = 1/1 \\\\\n",
    "$$"
   ]
  },
  {
   "cell_type": "code",
   "execution_count": null,
   "id": "wAgl",
   "metadata": {},
   "outputs": [],
   "source": [
    "mapq_bedgraph = pd.read_csv(\n",
    "    \"../previous_outputs/HG002/HG002.sv.sorted.bedgraph\",\n",
    "    sep=\" \",\n",
    "    header=0,\n",
    "    skiprows=1,\n",
    "    names=[\"Chromosome\", \"Start\", \"End\", \"MAPQ\"],\n",
    "    dtype={\n",
    "        \"Chromosome\": str,\n",
    "    },\n",
    ")\n",
    "\n",
    "mapq_bedgraph_pr = pr.PyRanges(mapq_bedgraph)\n",
    "\n",
    "mapq_bedgraph_pr"
   ]
  },
  {
   "cell_type": "code",
   "execution_count": null,
   "id": "aqbW",
   "metadata": {},
   "outputs": [],
   "source": [
    "vcf = (\n",
    "    pl.read_csv(\n",
    "        \"../resources/sv-vcf-files/HG002_SVs_Tier1_v0.6.ALL.vcf\",\n",
    "        separator=\"\\t\",\n",
    "        comment_prefix=\"#\",\n",
    "        has_header=False,\n",
    "        new_columns=[\n",
    "            \"CHROM\",\n",
    "            \"POS\",\n",
    "            \"ID\",\n",
    "            \"REF\",\n",
    "            \"ALT\",\n",
    "            \"QUAL\",\n",
    "            \"FILTER\",\n",
    "            \"INFO\",\n",
    "            \"FORMAT\",\n",
    "            \"HG002\",\n",
    "        ],\n",
    "        schema_overrides={\"CHROM\": pl.String},\n",
    "    )\n",
    "    .with_columns(\n",
    "        pl.col(\"INFO\")\n",
    "        .str.extract_groups(r\"sizecat=([\\w\\d]+);\")\n",
    "        .alias(\"SIZECAT\")\n",
    "        .struct.rename_fields([\"SIZECAT\"]),\n",
    "        pl.col(\"INFO\")\n",
    "        .str.extract_groups(r\"SVLEN=([-\\d]+);\")\n",
    "        .cast(pl.Int32)\n",
    "        .alias(\"SVLEN\")\n",
    "        .struct.rename_fields([\"SVLEN\"]),\n",
    "        pl.col(\"INFO\")\n",
    "        .str.extract_groups(r\"SVTYPE=(\\w+);\")\n",
    "        .alias(\"SVTYPE\")\n",
    "        .struct.rename_fields([\"SVTYPE\"]),\n",
    "        pl.col(\"HG002\").str.extract(r\"^([\\d|.|\\/]*):\").alias(\"GT\"),\n",
    "    )\n",
    "    .unnest([\"SIZECAT\", \"SVLEN\", \"SVTYPE\"])\n",
    ")\n",
    "\n",
    "vcf"
   ]
  },
  {
   "cell_type": "code",
   "execution_count": null,
   "id": "ulZA",
   "metadata": {},
   "outputs": [],
   "source": [
    "alt_to_ref = pl.read_csv(\n",
    "    \"../previous_outputs/HG002/alt_to_ref.txt\",\n",
    "    separator=\" \",\n",
    "    has_header=False,\n",
    "    new_columns=[\"alt_contig\", \"ref_loc\", \"alt_len\"],\n",
    ").with_columns(\n",
    "    pl.col(\"alt_contig\").str.replace(\">\", \"\"),\n",
    "    pl.col(\"ref_loc\").str.replace(\"rg:\", \"\"),\n",
    ")\n",
    "\n",
    "alt_to_ref.head()"
   ]
  },
  {
   "cell_type": "code",
   "execution_count": null,
   "id": "Vxnm",
   "metadata": {},
   "outputs": [],
   "source": [
    "alt.data_transformers.enable(\"vegafusion\")"
   ]
  },
  {
   "cell_type": "code",
   "execution_count": null,
   "id": "urSm",
   "metadata": {},
   "outputs": [],
   "source": [
    "inf = np.inf"
   ]
  },
  {
   "cell_type": "code",
   "execution_count": null,
   "id": "TRpd",
   "metadata": {},
   "outputs": [],
   "source": [
    "vcf_filter_and_gt = vcf.select(\n",
    "    [\"FILTER\", \"GT\", \"SVLEN\", \"SIZECAT\", \"SVTYPE\"]\n",
    ").to_pandas()\n",
    "\n",
    "vcf_filter_and_gt"
   ]
  },
  {
   "cell_type": "code",
   "execution_count": null,
   "id": "aLJB",
   "metadata": {},
   "outputs": [],
   "source": [
    "sv_locs_pr = pr.PyRanges(\n",
    "    alt_to_ref.select(\"alt_contig\", \"alt_len\")\n",
    "    .with_columns(\n",
    "        pl.col(\"alt_contig\")\n",
    "        .str.extract_groups(r\"(\\d+|\\w+)_(\\d+)_(\\d+)_\\d\")\n",
    "        .struct.rename_fields([\"Chromosome\", \"Start\", \"End\"])\n",
    "        .alias(\"alt_contig_locs\"),\n",
    "        pl.col(\"alt_len\").str.extract(r\"LN:(\\d+)\").str.to_integer(),\n",
    "    )\n",
    "    .unnest(\"alt_contig_locs\")\n",
    "    .with_columns(pl.col([\"Start\", \"End\"]).str.to_integer())\n",
    "    .to_pandas()\n",
    ")\n",
    "\n",
    "sv_locs_pr"
   ]
  },
  {
   "cell_type": "code",
   "execution_count": null,
   "id": "Pvdt",
   "metadata": {},
   "outputs": [],
   "source": [
    "ref_locs = bf.from_any(alt_to_ref.to_series(1).to_list())\n",
    "ref_locs[\"alt_contig\"] = pd.Series(alt_to_ref.to_series(0).to_list())\n",
    "ref_locs_pr = pr.PyRanges(\n",
    "    ref_locs.rename(columns={\"chrom\": \"Chromosome\", \"start\": \"Start\", \"end\": \"End\"})\n",
    ")\n",
    "\n",
    "ref_locs_pr"
   ]
  },
  {
   "cell_type": "code",
   "execution_count": null,
   "id": "xXTn",
   "metadata": {},
   "outputs": [],
   "source": [
    "locs = sv_locs_pr.df.join(ref_locs_pr.df, rsuffix=\"_ref\").drop(\n",
    "    columns=[\"alt_contig_ref\", \"Chromosome_ref\"]\n",
    ")\n",
    "\n",
    "locs"
   ]
  },
  {
   "cell_type": "code",
   "execution_count": null,
   "id": "pHFh",
   "metadata": {},
   "outputs": [],
   "source": [
    "test_locs_pr = locs.copy()\n",
    "\n",
    "# Get size of context to determine where on alt to start testing\n",
    "test_locs_pr[\"Start_alt_test\"] = test_locs_pr[\"Start\"] - test_locs_pr[\"Start_ref\"]\n",
    "\n",
    "# Determine where to end testing\n",
    "test_locs_pr[\"End_alt_test\"] = np.where(\n",
    "    test_locs_pr[\"alt_len\"] == 1801,\n",
    "    test_locs_pr[\"Start\"] + 1 - test_locs_pr[\"Start_ref\"],\n",
    "    test_locs_pr[\"Start_alt_test\"] + (test_locs_pr[\"alt_len\"] - 1801),\n",
    ")\n",
    "\n",
    "test_locs_pr"
   ]
  },
  {
   "cell_type": "code",
   "execution_count": null,
   "id": "TXez",
   "metadata": {},
   "outputs": [],
   "source": [
    "test_locs_with_gt = pd.concat([test_locs_pr, vcf_filter_and_gt], axis=1)\n",
    "test_locs_with_gt.insert(1, \"alt_start\", [0] * test_locs_with_gt.shape[0])\n",
    "\n",
    "test_locs_with_gt = test_locs_with_gt.query('FILTER == \"PASS\"')\n",
    "\n",
    "test_locs_with_gt"
   ]
  },
  {
   "cell_type": "code",
   "execution_count": null,
   "id": "wlCL",
   "metadata": {},
   "outputs": [],
   "source": [
    "alt_test_locs = test_locs_with_gt.copy()\n",
    "\n",
    "alt_test_locs[\"Chromosome\"] = alt_test_locs[\"alt_contig\"]\n",
    "\n",
    "alt_test_locs = alt_test_locs[\n",
    "    [\"alt_contig\", \"Chromosome\", \"Start_alt_test\", \"End_alt_test\"]\n",
    "].rename(columns={\"Start_alt_test\": \"Start\", \"End_alt_test\": \"End\"})\n",
    "\n",
    "alt_test_locs"
   ]
  },
  {
   "cell_type": "code",
   "execution_count": null,
   "id": "yCnT",
   "metadata": {},
   "outputs": [],
   "source": [
    "ref_test_locs = test_locs_with_gt[[\"alt_contig\", \"Chromosome\", \"Start\", \"End\"]]\n",
    "ref_test_locs"
   ]
  },
  {
   "cell_type": "code",
   "execution_count": null,
   "id": "lgWD",
   "metadata": {},
   "outputs": [],
   "source": [
    "alt_mapq = (\n",
    "    pr.PyRanges(alt_test_locs)\n",
    "    .extend(100)\n",
    "    .join(mapq_bedgraph_pr)\n",
    "    .df.groupby(\"alt_contig\")\n",
    "    .agg({\"MAPQ\": \"mean\"})\n",
    ")\n",
    "\n",
    "alt_mapq"
   ]
  },
  {
   "cell_type": "code",
   "execution_count": null,
   "id": "dGlV",
   "metadata": {},
   "outputs": [],
   "source": [
    "ref_mapq = (\n",
    "    pr.PyRanges(ref_test_locs)\n",
    "    .extend(100)\n",
    "    .join(mapq_bedgraph_pr)\n",
    "    .df.groupby(\"alt_contig\")\n",
    "    .agg({\"MAPQ\": \"mean\"})\n",
    ")\n",
    "\n",
    "ref_mapq"
   ]
  },
  {
   "cell_type": "code",
   "execution_count": null,
   "id": "fwwy",
   "metadata": {},
   "outputs": [],
   "source": [
    "results = (\n",
    "    test_locs_with_gt.set_index(\"alt_contig\")\n",
    "    .join(ref_mapq, rsuffix=\"_ref\")\n",
    "    .join(alt_mapq, rsuffix=\"_alt\")\n",
    "    .reset_index()\n",
    "    .set_index([\"Chromosome\", \"Start\", \"End\"])\n",
    ")\n",
    "\n",
    "results[\"ratio_alt_to_ref\"] = results[\"MAPQ_alt\"] / results[\"MAPQ\"]\n",
    "\n",
    "results[\"sqrt_ratio\"] = np.sqrt(results[\"ratio_alt_to_ref\"])\n",
    "results[\"cbrt_ratio\"] = np.cbrt(results[\"ratio_alt_to_ref\"])\n",
    "\n",
    "results"
   ]
  },
  {
   "cell_type": "code",
   "execution_count": null,
   "id": "xvXZ",
   "metadata": {},
   "outputs": [],
   "source": [
    "cbrt_chart = (\n",
    "    alt.Chart(\n",
    "        results.query(\"not ratio_alt_to_ref.isna() and ratio_alt_to_ref != @inf\")\n",
    "    )\n",
    "    .mark_line()\n",
    "    .encode(\n",
    "        alt.X(\"cbrt_ratio:Q\").bin(maxbins=250), y=\"count()\", color=alt.Color(\"GT\")\n",
    "    )\n",
    "    .interactive()\n",
    ")"
   ]
  },
  {
   "cell_type": "code",
   "execution_count": null,
   "id": "mWxS",
   "metadata": {},
   "outputs": [],
   "source": [
    "overview_chart_more_detail = (\n",
    "    alt.Chart(\n",
    "        results.query(\"not ratio_alt_to_ref.isna() and ratio_alt_to_ref != @inf\")\n",
    "    )\n",
    "    .mark_line()\n",
    "    .encode(\n",
    "        alt.X(\"ratio_alt_to_ref:Q\").bin(maxbins=1000),\n",
    "        y=\"count()\",\n",
    "        color=alt.Color(\"GT\"),\n",
    "    )\n",
    "    .interactive()\n",
    ")"
   ]
  },
  {
   "cell_type": "code",
   "execution_count": null,
   "id": "CcZR",
   "metadata": {},
   "outputs": [],
   "source": [
    "overview_chart_even_more_detail = (\n",
    "    alt.Chart(\n",
    "        results.query(\"not ratio_alt_to_ref.isna() and ratio_alt_to_ref != @inf\")\n",
    "    )\n",
    "    .mark_line()\n",
    "    .encode(\n",
    "        alt.X(\"ratio_alt_to_ref:Q\").bin(maxbins=5000),\n",
    "        y=\"count()\",\n",
    "        color=alt.Color(\"GT\"),\n",
    "    )\n",
    "    .interactive()\n",
    ")"
   ]
  },
  {
   "cell_type": "code",
   "execution_count": null,
   "id": "jxvo",
   "metadata": {},
   "outputs": [],
   "source": [
    "overview_chart = (\n",
    "    alt.Chart(\n",
    "        results.query(\"not ratio_alt_to_ref.isna() and ratio_alt_to_ref != @inf\")\n",
    "    )\n",
    "    .mark_line()\n",
    "    .encode(\n",
    "        alt.X(\"ratio_alt_to_ref:Q\").bin(maxbins=100),\n",
    "        y=\"count()\",\n",
    "        color=alt.Color(\"GT\"),\n",
    "    )\n",
    "    .interactive()\n",
    ")"
   ]
  },
  {
   "cell_type": "code",
   "execution_count": null,
   "id": "YWSi",
   "metadata": {},
   "outputs": [],
   "source": [
    "ratio_lt_5 = (\n",
    "    alt.Chart(\n",
    "        results.query(\n",
    "            \"not ratio_alt_to_ref.isna() and ratio_alt_to_ref != @inf and ratio_alt_to_ref < 5\"\n",
    "        )\n",
    "    )\n",
    "    .mark_line()\n",
    "    .encode(\n",
    "        alt.X(\"ratio_alt_to_ref:Q\").bin(maxbins=100),\n",
    "        y=\"count()\",\n",
    "        color=alt.Color(\"GT\"),\n",
    "    )\n",
    "    .interactive()\n",
    ")"
   ]
  },
  {
   "cell_type": "code",
   "execution_count": null,
   "id": "zlud",
   "metadata": {},
   "outputs": [],
   "source": [
    "ratio_ge_5 = (\n",
    "    alt.Chart(\n",
    "        results.query(\n",
    "            \"not ratio_alt_to_ref.isna() and ratio_alt_to_ref != @inf and ratio_alt_to_ref > 5\"\n",
    "        )\n",
    "    )\n",
    "    .mark_line()\n",
    "    .encode(\n",
    "        alt.X(\"ratio_alt_to_ref:Q\").bin(maxbins=100),\n",
    "        y=\"count()\",\n",
    "        color=alt.Color(\"GT\"),\n",
    "    )\n",
    "    .interactive()\n",
    ")"
   ]
  },
  {
   "cell_type": "code",
   "execution_count": null,
   "id": "cEAS",
   "metadata": {},
   "outputs": [],
   "source": [
    "predictions = results.copy()\n",
    "\n",
    "predictions[\"prediction\"] = np.where(\n",
    "    results[\"ratio_alt_to_ref\"].isna(),\n",
    "    \"./.\",\n",
    "    np.where(\n",
    "        results[\"ratio_alt_to_ref\"] >= 2.8,\n",
    "        \"1/1\",\n",
    "        np.where(results[\"ratio_alt_to_ref\"] < 0.2, \"0/0\", \"0/1\"),\n",
    "    ),\n",
    ")\n",
    "\n",
    "predictions[\"is_correct\"] = predictions[\"prediction\"] == predictions[\"GT\"]\n",
    "\n",
    "predictions"
   ]
  },
  {
   "cell_type": "code",
   "execution_count": null,
   "id": "tZnO",
   "metadata": {},
   "outputs": [],
   "source": [
    "sqrt_chart = (\n",
    "    alt.Chart(\n",
    "        results.query(\"not ratio_alt_to_ref.isna() and ratio_alt_to_ref != @inf\")\n",
    "    )\n",
    "    .mark_line()\n",
    "    .encode(\n",
    "        alt.X(\"sqrt_ratio:Q\").bin(maxbins=250), y=\"count()\", color=alt.Color(\"GT\")\n",
    "    )\n",
    "    .interactive()\n",
    ")"
   ]
  },
  {
   "cell_type": "code",
   "execution_count": null,
   "id": "iXej",
   "metadata": {},
   "outputs": [],
   "source": [
    "correct_predictions_by_sizecat = predictions.groupby(\"SIZECAT\").agg(\n",
    "    {\"is_correct\": [\"sum\", \"count\"]}\n",
    ")\n",
    "\n",
    "correct_predictions_by_sizecat[\"pct\"] = (\n",
    "    100\n",
    "    * correct_predictions_by_sizecat[(\"is_correct\", \"sum\")]\n",
    "    / correct_predictions_by_sizecat[(\"is_correct\", \"count\")]\n",
    ")\n",
    "\n",
    "correct_predictions_by_sizecat"
   ]
  },
  {
   "cell_type": "code",
   "execution_count": null,
   "id": "UmEG",
   "metadata": {},
   "outputs": [],
   "source": [
    "contingency_table = pd.crosstab(\n",
    "    predictions[\"GT\"], predictions[\"prediction\"], normalize=\"index\"\n",
    ")\n",
    "contingency_table"
   ]
  },
  {
   "cell_type": "code",
   "execution_count": null,
   "id": "EJmg",
   "metadata": {},
   "outputs": [],
   "source": [
    "correct_predictions_by_svtype = predictions.groupby(\"SVTYPE\").agg(\n",
    "    {\"is_correct\": [\"sum\", \"count\"]}\n",
    ")\n",
    "\n",
    "correct_predictions_by_svtype[\"pct\"] = (\n",
    "    100\n",
    "    * correct_predictions_by_svtype[(\"is_correct\", \"sum\")]\n",
    "    / correct_predictions_by_svtype[(\"is_correct\", \"count\")]\n",
    ")\n",
    "\n",
    "correct_predictions_by_svtype"
   ]
  },
  {
   "cell_type": "code",
   "execution_count": null,
   "id": "CLip",
   "metadata": {},
   "outputs": [],
   "source": [
    "overview_charts = (\n",
    "    overview_chart | overview_chart_more_detail | overview_chart_even_more_detail\n",
    ")\n",
    "\n",
    "initial_charts = ratio_lt_5 | ratio_ge_5\n",
    "\n",
    "root_charts = sqrt_chart | cbrt_chart"
   ]
  },
  {
   "cell_type": "code",
   "execution_count": null,
   "id": "Hstk",
   "metadata": {},
   "outputs": [],
   "source": [
    "correct_predictions_by_sizecat"
   ]
  },
  {
   "cell_type": "code",
   "execution_count": null,
   "id": "emfo",
   "metadata": {},
   "outputs": [],
   "source": [
    "mo.md(contingency_table.to_markdown())"
   ]
  },
  {
   "cell_type": "code",
   "execution_count": null,
   "id": "nWHF",
   "metadata": {},
   "outputs": [],
   "source": [
    "correct_predictions_by_svtype"
   ]
  },
  {
   "cell_type": "code",
   "execution_count": null,
   "id": "SFPL",
   "metadata": {},
   "outputs": [],
   "source": [
    "root_charts"
   ]
  },
  {
   "cell_type": "code",
   "execution_count": null,
   "id": "RGSE",
   "metadata": {},
   "outputs": [],
   "source": [
    "initial_charts"
   ]
  },
  {
   "cell_type": "code",
   "execution_count": null,
   "id": "PKri",
   "metadata": {},
   "outputs": [],
   "source": [
    "overview_charts"
   ]
  }
 ],
 "metadata": {},
 "nbformat": 4,
 "nbformat_minor": 5
}
